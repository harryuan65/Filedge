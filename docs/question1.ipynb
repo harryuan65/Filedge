{
 "cells": [
  {
   "attachments": {},
   "cell_type": "markdown",
   "metadata": {},
   "source": [
    "# Question 1: File sharing application\n",
    "## Part 1\n",
    "Please design a file sharing web application, which lets users upload and share files. \n",
    "\n",
    "### Requirements:\n",
    "\n",
    "- A user can upload and share files,\n",
    "- Sharing links should be hard to guess,\n",
    "- Sharing links will expire.\n",
    "\n",
    "Your design should be a brief written explanation of how you would structure this application, including explaining your choices about architecture, stack, etc. You can include basic drawings or diagrams if they are helpful.\n",
    "\n",
    "## Part 2\n",
    "\n",
    "Implement a web application. You should:\n",
    "- Fulfills the requirements in part 1.\n",
    "- Dockerize the app.\n",
    "- Provide a README with clear setup instructions.\n",
    "\n",
    "You will discuss and expand on your code during the onsite interview. We look for the following qualities in submissions:\n",
    "\n",
    "- Accuracy\n",
    "- Code quality: maintainability, extendability, readability, etc.\n",
    "- Testing\n"
   ]
  },
  {
   "attachments": {},
   "cell_type": "markdown",
   "metadata": {},
   "source": [
    "---------------"
   ]
  },
  {
   "attachments": {},
   "cell_type": "markdown",
   "metadata": {},
   "source": [
    "---"
   ]
  },
  {
   "cell_type": "code",
   "execution_count": null,
   "metadata": {},
   "outputs": [],
   "source": []
  },
  {
   "attachments": {},
   "cell_type": "markdown",
   "metadata": {},
   "source": [
    "# Part 1 - Application Structure\n",
    "\n",
    "I would start with this simple structure:\n",
    "\n",
    "![](./01_overview.svg)\n",
    "\n",
    "## Domain\n",
    "\n",
    "- A user can upload files -> a user has many files\n",
    "- A user can share files  -> a file might have a sharing link\n",
    "\n",
    "- Sharing links should be hard to guess.\n",
    "  My ideas were:\n",
    "    - We can try solely using a uuid for `user_files#id`. The `user_files#show` will conveniently be our sharing link. Users who know this URL cannot guess the other ids since it is not sequential.\n",
    "    - However, because `GET user_files/UUID_GIBBERISH` is also exposing sensitive info, I think it's better to hide  information when sharing files. So I planned to generate a unique hash and create the link as `/share/UNIQUE_HASH`. I pick `Digest::SHA256` since \n",
    "        - It has tons of possible outputs ($2^{256}$).\n",
    "        - It is known to be very unlikely to create duplicated keys. Even when the input change only slightly, the output will change drastically.\n",
    "  For now, this is my function to generate a random link hash.\n",
    "  $$\\text{digest} = \\text{SHA256}(\\text{ user\\_file\\_id })$$\n",
    "- Sharing links will expire.\n",
    "  - Sharing links will have an `expire_at` field. \n",
    "  - When a user tries to access a link that is expired, he should receive a 404 response.\n",
    "\n",
    "According to my train of thought, I have:\n",
    "![](./02_models.png)\n",
    "\n",
    "## General Business Logic\n",
    "\n",
    "Here is my brief implementation:\n",
    "![](./03_sequence_diagram.png)\n",
    "\n",
    "## Choices About The Architecture\n",
    "\n",
    "File upload: I want to make \"files\" a single model `UserFile` that can be referenced by a `SharingLink`, So I use `carrierwave` instead of `active storage` for this case. Both of them supports uploading to local storage and S3.\n",
    "\n",
    "Database choice: The models I planned to create have clear schemas and relationships, so I prefer using a sql database. Selecting `PostgresSQL`  is because I am more familiar with it.\n",
    "\n"
   ]
  },
  {
   "attachments": {},
   "cell_type": "markdown",
   "metadata": {},
   "source": [
    "# Part 2 - Implementation\n",
    "\n",
    "Please refer to the README.md of this repository."
   ]
  }
 ],
 "metadata": {
  "kernelspec": {
   "display_name": "Ruby 3.0.3",
   "language": "ruby",
   "name": "ruby"
  },
  "language_info": {
   "name": "ruby"
  },
  "orig_nbformat": 4
 },
 "nbformat": 4,
 "nbformat_minor": 2
}
