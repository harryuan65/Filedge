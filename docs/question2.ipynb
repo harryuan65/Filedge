{
 "cells": [
  {
   "attachments": {},
   "cell_type": "markdown",
   "metadata": {},
   "source": [
    "# Question 2: Containing 7s\n",
    "\n",
    "Let `g(N)` be the count of numbers that contain a 7 when you write out all the numbers from 1 to N.\n",
    "\n",
    "|test case|why|\n",
    "|---      |---|\n",
    "|g(7)=1   | 7 |\n",
    "|g(14)=1  | 7 |\n",
    "|g(20)=2  | 7, 17  |\n",
    "|g(70)=8  | 7, 17, 27, 37, 47, 57, 67, 70, 71, 72, 73, 74, 75, 76, 77, 78, 79  |\n",
    "|g(100)=19 | 7, 17, 27, 37, 47, 57, 67, 70, 71, 72, 73, 74, 75, 76, 77, 78, 79, 87, 97  |\n",
    "\n",
    "## Questions:\n",
    "\n",
    "1. What is g(1000)?\n",
    "2. Write a computer program to compute g(N)\n"
   ]
  },
  {
   "cell_type": "code",
   "execution_count": 2,
   "metadata": {},
   "outputs": [
    {
     "data": {
      "text/html": [
       "<table><tr><td>1</td><td>0</td></tr><tr><td>7</td><td>1</td></tr><tr><td>17</td><td>2</td></tr><tr><td>27</td><td>3</td></tr><tr><td>69</td><td>7</td></tr><tr><td>70</td><td>8</td></tr><tr><td>71</td><td>9</td></tr><tr><td>72</td><td>10</td></tr><tr><td>170</td><td>27</td></tr></table>"
      ],
      "text/plain": [
       "\"<table><tr><td>1</td><td>0</td></tr><tr><td>7</td><td>1</td></tr><tr><td>17</td><td>2</td></tr><tr><td>27</td><td>3</td></tr><tr><td>69</td><td>7</td></tr><tr><td>70</td><td>8</td></tr><tr><td>71</td><td>9</td></tr><tr><td>72</td><td>10</td></tr><tr><td>170</td><td>27</td></tr></table>\""
      ]
     },
     "execution_count": 2,
     "metadata": {},
     "output_type": "execute_result"
    }
   ],
   "source": [
    "cases = {\n",
    "  1 => [],\n",
    "  7 => [7],\n",
    "  17 => [7,17],\n",
    "  27 => [7,17,27],\n",
    "  69 => [7,17,27,37,47,57,67],\n",
    "  70 => [7,17,27,37,47,57,67,70],\n",
    "  71 => [7,17,27,37,47,57,67,70,71],\n",
    "  72 => [7,17,27,37,47,57,67,70,71,72],\n",
    "  170 => [7,17,27,37,47,57,67,70,71,72,73,74,75,76,77,78,79,87,97,107,117,127,137,147,157,167,170]\n",
    "}\n",
    "IRuby.table(cases.map{|input, occurs| [input, occurs.size]})"
   ]
  },
  {
   "attachments": {},
   "cell_type": "markdown",
   "metadata": {},
   "source": [
    "Here is my observation:\n",
    "\n",
    "Given a number K, if K % 10 == 7, then K contains a 7 digit. \n",
    "Else, divide K by 10 and try again while K > 0."
   ]
  },
  {
   "cell_type": "code",
   "execution_count": 3,
   "metadata": {},
   "outputs": [
    {
     "name": "stdout",
     "output_type": "stream",
     "text": [
      "\u001b[32m expect g(14)=1 to equal 1\u001b[0m\n",
      "\u001b[32m expect g(17)=2 to equal 2\u001b[0m\n",
      "\u001b[32m expect g(70)=8 to equal 8\u001b[0m\n",
      "\u001b[32m expect g(71)=9 to equal 9\u001b[0m\n",
      "\u001b[32m expect g(72)=10 to equal 10\u001b[0m\n",
      "\u001b[32m expect g(73)=11 to equal 11\u001b[0m\n",
      "\u001b[32m expect g(77)=15 to equal 15\u001b[0m\n",
      "\u001b[32m expect g(170)=27 to equal 27\u001b[0m\n"
     ]
    }
   ],
   "source": [
    "def g(n)\n",
    "  count = 0\n",
    "  1.upto(n) do |num|\n",
    "    while num.positive?\n",
    "      if num % 10 == 7\n",
    "        count+=1\n",
    "        break\n",
    "      end\n",
    "\n",
    "      num/=10\n",
    "    end\n",
    "  end\n",
    "  count\n",
    "end\n",
    "\n",
    "def assert(_method, input, output)\n",
    "  test = method(_method).call(input)\n",
    "  color = test == output ? \"\\e[32m\" : \"\\e[31m\"\n",
    "  puts \"#{color} expect #{_method}(#{input})=#{test} to equal #{output}\\e[0m\"\n",
    "end\n",
    "\n",
    "assert(:g, 14 , 1)\n",
    "assert(:g, 17 , 2)\n",
    "assert(:g, 70 , 8)\n",
    "assert(:g, 71 , 9)\n",
    "assert(:g, 72 , 10)\n",
    "assert(:g, 73 , 11)\n",
    "assert(:g, 77 , 15)\n",
    "assert(:g, 170 , 27)"
   ]
  },
  {
   "attachments": {},
   "cell_type": "markdown",
   "metadata": {},
   "source": [
    "# Answer to Question 1"
   ]
  },
  {
   "cell_type": "code",
   "execution_count": 4,
   "metadata": {},
   "outputs": [
    {
     "name": "stdout",
     "output_type": "stream",
     "text": [
      "271\n"
     ]
    }
   ],
   "source": [
    "puts g(1000)"
   ]
  },
  {
   "attachments": {},
   "cell_type": "markdown",
   "metadata": {},
   "source": [
    "# Answer to Question 2\n",
    "\n",
    "This code is the implementation of `g`."
   ]
  },
  {
   "cell_type": "code",
   "execution_count": null,
   "metadata": {},
   "outputs": [],
   "source": [
    "def g(n)\n",
    "  count = 0\n",
    "  1.upto(n) do |num|\n",
    "    while num.positive?\n",
    "      if num % 10 == 7\n",
    "        count+=1\n",
    "        break\n",
    "      end\n",
    "\n",
    "      num/=10\n",
    "    end\n",
    "  end\n",
    "  count\n",
    "end"
   ]
  },
  {
   "attachments": {},
   "cell_type": "markdown",
   "metadata": {},
   "source": [
    "## Analysis\n",
    "\n",
    "### Time Complexity: $O(n logn)$\n",
    "\n",
    "$\\qquad \\overbrace{O(n)}^{\\mathclap{\\text{Loop from 1..n} }} \\quad \\cdot \\quad \\overbrace{O(\\log_{10} {n})}^{\\mathclap{\\text{divide by 10 until} \\lt 1}} $\n",
    "\n",
    "### Space Complexity: $O(1)$\n",
    "\n",
    "No extra spaces used."
   ]
  }
 ],
 "metadata": {
  "kernelspec": {
   "display_name": "Ruby 3.0.3",
   "language": "ruby",
   "name": "ruby"
  },
  "language_info": {
   "file_extension": ".rb",
   "mimetype": "application/x-ruby",
   "name": "ruby",
   "version": "3.0.3"
  },
  "orig_nbformat": 4
 },
 "nbformat": 4,
 "nbformat_minor": 2
}
